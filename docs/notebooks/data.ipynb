{
 "nbformat": 4,
 "nbformat_minor": 2,
 "metadata": {
  "language_info": {
   "name": "python",
   "codemirror_mode": {
    "name": "ipython",
    "version": 3
   },
   "version": "3.7.4-final"
  },
  "orig_nbformat": 2,
  "file_extension": ".py",
  "mimetype": "text/x-python",
  "name": "python",
  "npconvert_exporter": "python",
  "pygments_lexer": "ipython3",
  "version": 3,
  "kernelspec": {
   "name": "python37464bitjsngjrqeaqjjpy37venv507a8ca2e67549bca0e429d9f106fc03",
   "display_name": "Python 3.7.4 64-bit ('js-ng-jRqeaqjJ-py3.7': venv)"
  }
 },
 "cells": [
  {
   "cell_type": "code",
   "execution_count": 1,
   "metadata": {},
   "outputs": [],
   "source": [
    "from jumpscale.god import j"
   ]
  },
  {
   "cell_type": "code",
   "execution_count": 2,
   "metadata": {},
   "outputs": [
    {
     "output_type": "execute_result",
     "data": {
      "text/plain": "'0x991de3622757cfee'"
     },
     "metadata": {},
     "execution_count": 2
    }
   ],
   "source": [
    "j.data.idgenerator.capnp_id()"
   ]
  },
  {
   "cell_type": "code",
   "execution_count": 3,
   "metadata": {},
   "outputs": [
    {
     "output_type": "execute_result",
     "data": {
      "text/plain": "'a8b6b7eb-f3a1-4401-a860-c0388d2585ee'"
     },
     "metadata": {},
     "execution_count": 3
    }
   ],
   "source": [
    "j.data.idgenerator.guid()"
   ]
  },
  {
   "cell_type": "code",
   "execution_count": 7,
   "metadata": {},
   "outputs": [
    {
     "output_type": "execute_result",
     "data": {
      "text/plain": "'L,Vw=Q'"
     },
     "metadata": {},
     "execution_count": 7
    }
   ],
   "source": [
    "j.data.idgenerator.password(6)"
   ]
  },
  {
   "cell_type": "code",
   "execution_count": 8,
   "metadata": {},
   "outputs": [
    {
     "output_type": "execute_result",
     "data": {
      "text/plain": "'MJWFR'"
     },
     "metadata": {},
     "execution_count": 8
    }
   ],
   "source": [
    "j.data.idgenerator.chars(5)"
   ]
  },
  {
   "cell_type": "code",
   "execution_count": 9,
   "metadata": {},
   "outputs": [
    {
     "output_type": "execute_result",
     "data": {
      "text/plain": "9"
     },
     "metadata": {},
     "execution_count": 9
    }
   ],
   "source": [
    "j.data.idgenerator.random_int()"
   ]
  },
  {
   "cell_type": "code",
   "execution_count": null,
   "metadata": {},
   "outputs": [],
   "source": []
  }
 ]
}